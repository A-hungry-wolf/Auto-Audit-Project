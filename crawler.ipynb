{
 "cells": [
  {
   "cell_type": "markdown",
   "id": "ca489858",
   "metadata": {},
   "source": [
    "## Import Libraries"
   ]
  },
  {
   "cell_type": "code",
   "execution_count": 1,
   "id": "3c23224e",
   "metadata": {},
   "outputs": [],
   "source": [
    "import requests\n",
    "import random\n",
    "import time\n",
    "import urllib"
   ]
  },
  {
   "cell_type": "markdown",
   "id": "d5f6e9e2",
   "metadata": {},
   "source": [
    "## path define"
   ]
  },
  {
   "cell_type": "code",
   "execution_count": 2,
   "id": "8a86511e",
   "metadata": {},
   "outputs": [],
   "source": [
    "download_path = 'http://static.cninfo.com.cn/'\n",
    "saving_path = './pdf/'"
   ]
  },
  {
   "cell_type": "markdown",
   "id": "b4ca118b",
   "metadata": {},
   "source": [
    "## Basic information"
   ]
  },
  {
   "cell_type": "code",
   "execution_count": 3,
   "id": "a6e5b3cd",
   "metadata": {},
   "outputs": [],
   "source": [
    "User_Agent = [\n",
    "    \"Mozilla/5.0 (compatible; MSIE 9.0; Windows NT 6.1; Win64; x64; Trident/5.0; .NET CLR 3.5.30729; .NET CLR 3.0.30729; .NET CLR 2.0.50727; Media Center PC 6.0)\",\n",
    "    \"Mozilla/5.0 (compatible; MSIE 8.0; Windows NT 6.0; Trident/4.0; WOW64; Trident/4.0; SLCC2; .NET CLR 2.0.50727; .NET CLR 3.5.30729; .NET CLR 3.0.30729; .NET CLR 1.0.3705; .NET CLR 1.1.4322)\",\n",
    "    \"Mozilla/4.0 (compatible; MSIE 7.0b; Windows NT 5.2; .NET CLR 1.1.4322; .NET CLR 2.0.50727; InfoPath.2; .NET CLR 3.0.04506.30)\",\n",
    "    \"Mozilla/5.0 (Windows; U; Windows NT 5.1; zh-CN) AppleWebKit/523.15 (KHTML, like Gecko, Safari/419.3) Arora/0.3 (Change: 287 c9dfb30)\",\n",
    "    \"Mozilla/5.0 (X11; U; Linux; en-US) AppleWebKit/527+ (KHTML, like Gecko, Safari/419.3) Arora/0.6\",\n",
    "    \"Mozilla/5.0 (Windows; U; Windows NT 5.1; en-US; rv:1.8.1.2pre) Gecko/20070215 K-Ninja/2.1.1\",\n",
    "    \"Mozilla/5.0 (Windows; U; Windows NT 5.1; zh-CN; rv:1.9) Gecko/20080705 Firefox/3.0 Kapiko/3.0\"\n",
    "]"
   ]
  },
  {
   "cell_type": "code",
   "execution_count": 4,
   "id": "4b542441",
   "metadata": {},
   "outputs": [],
   "source": [
    "headers = {'Accept': 'application/json, text/javascript, */*; q=0.01',\n",
    "           \"Content-Type\": \"application/x-www-form-urlencoded; charset=UTF-8\",\n",
    "           \"Accept-Encoding\": \"gzip, deflate\",\n",
    "           \"Accept-Language\": \"zh-CN,zh;q=0.9,en-US;q=0.8,en;q=0.7,zh-HK;q=0.6,zh-TW;q=0.5\",\n",
    "           'Host': 'www.cninfo.com.cn',\n",
    "           'Origin': 'http://www.cninfo.com.cn',\n",
    "           'Referer': 'http://www.cninfo.com.cn/new/commonUrl?url=disclosure/list/notice',\n",
    "           'X-Requested-With': 'XMLHttpRequest'\n",
    "           }"
   ]
  },
  {
   "cell_type": "markdown",
   "id": "f071ad1c",
   "metadata": {},
   "source": [
    "## 深市 年度报告"
   ]
  },
  {
   "cell_type": "code",
   "execution_count": 5,
   "id": "5c54393a",
   "metadata": {},
   "outputs": [],
   "source": [
    "def szseAnnual(page, stock):\n",
    "    query_path = 'http://www.cninfo.com.cn/new/hisAnnouncement/query'\n",
    "    headers['User-Agent'] = random.choice(User_Agent)  # 定义User_Agent\n",
    "    query = {'pageNum': page,  # 页码\n",
    "             'pageSize': 30,\n",
    "             'tabName': 'fulltext',\n",
    "             'column': 'szse',  # 深交所\n",
    "             'stock': stock,\n",
    "             'searchkey': '',\n",
    "             'secid': '',\n",
    "             'plate': 'sz',\n",
    "             'category': 'category_ndbg_szsh;',  # 年度报告\n",
    "             'trade': '',\n",
    "             'seDate': '2016-01-01+~+2019-4-26'  # 时间区间\n",
    "             }\n",
    "\n",
    "    namelist = requests.post(query_path, headers=headers, data=query)\n",
    "    return namelist.json()['announcements']"
   ]
  },
  {
   "cell_type": "markdown",
   "id": "531ad6ab",
   "metadata": {},
   "source": [
    "## 沪市 年度报告"
   ]
  },
  {
   "cell_type": "code",
   "execution_count": 6,
   "id": "4b1a7f38",
   "metadata": {},
   "outputs": [],
   "source": [
    "def sseAnnual(page, stock):\n",
    "    query_path = 'http://www.cninfo.com.cn/new/hisAnnouncement/query'\n",
    "    headers['User-Agent'] = random.choice(User_Agent)  # 定义User_Agent\n",
    "    query = {'pageNum': page,  # 页码\n",
    "             'pageSize': 30,\n",
    "             'tabName': 'fulltext',\n",
    "             'column': 'sse',\n",
    "             'stock': stock,\n",
    "             'searchkey': '',\n",
    "             'secid': '',\n",
    "             'plate': 'sh',\n",
    "             'category': 'category_ndbg_szsh;',  # 年度报告\n",
    "             'trade': '',\n",
    "             'seDate': '2016-01-01+~+2019-4-26'  # 时间区间\n",
    "             }\n",
    "\n",
    "    namelist = requests.post(query_path, headers=headers, data=query)\n",
    "    return namelist.json()['announcements']  # json中的年度报告信息"
   ]
  },
  {
   "cell_type": "markdown",
   "id": "59abe97e",
   "metadata": {},
   "source": [
    "## 深市 招股"
   ]
  },
  {
   "cell_type": "code",
   "execution_count": 8,
   "id": "c8a172e4",
   "metadata": {},
   "outputs": [],
   "source": [
    "def szseStock(page, stock):\n",
    "    query_path = 'http://www.cninfo.com.cn/new/hisAnnouncement/query'\n",
    "    headers['User-Agent'] = random.choice(User_Agent)  # 定义User_Agent\n",
    "    query = {'pageNum': page,  # 页码\n",
    "             'pageSize': 30,\n",
    "             'tabName': 'fulltext',\n",
    "             'column': 'szse',\n",
    "             'stock': stock,\n",
    "             'searchkey': '招股',\n",
    "             'secid': '',\n",
    "             'plate': 'sz',\n",
    "             'category': '',\n",
    "             'trade': '',\n",
    "             'seDate': '2001-01-01+~+2019-4-26'  # 时间区间\n",
    "             }\n",
    "\n",
    "    namelist = requests.post(query_path, headers=headers, data=query)\n",
    "    return namelist.json()['announcements']  # json中的年度报告信息"
   ]
  },
  {
   "cell_type": "markdown",
   "id": "7f765580",
   "metadata": {},
   "source": [
    "## 沪市 招股"
   ]
  },
  {
   "cell_type": "code",
   "execution_count": 9,
   "id": "0ab5c874",
   "metadata": {},
   "outputs": [],
   "source": [
    "def sseStock(page, stock):\n",
    "    query_path = 'http://www.cninfo.com.cn/new/hisAnnouncement/query'\n",
    "    headers['User-Agent'] = random.choice(User_Agent)  # 定义User_Agent\n",
    "    query = {'pageNum': page,  # 页码\n",
    "             'pageSize': 30,\n",
    "             'tabName': 'fulltext',\n",
    "             'column': 'sse',\n",
    "             'stock': stock,\n",
    "             'searchkey': '招股',\n",
    "             'secid': '',\n",
    "             'plate': 'sh',\n",
    "             'category': '',\n",
    "             'trade': '',\n",
    "             'seDate': '2001-01-01+~+2019-4-26'  # 时间区间\n",
    "             }\n",
    "\n",
    "    namelist = requests.post(query_path, headers=headers, data=query)\n",
    "    return namelist.json()['announcements']  # json中的年度报告信息"
   ]
  },
  {
   "cell_type": "markdown",
   "id": "646f6ee7",
   "metadata": {},
   "source": [
    "## Download PDF"
   ]
  },
  {
   "cell_type": "code",
   "execution_count": 11,
   "id": "9406be91",
   "metadata": {},
   "outputs": [],
   "source": [
    "def Download(single_page):\n",
    "    if single_page is None:\n",
    "        return\n",
    "\n",
    "    headers = {'Accept': 'application/json, text/javascript, */*; q=0.01',\n",
    "               \"Content-Type\": \"application/x-www-form-urlencoded; charset=UTF-8\",\n",
    "               \"Accept-Encoding\": \"gzip, deflate\",\n",
    "               \"Accept-Language\": \"zh-CN,zh;q=0.9,en-US;q=0.8,en;q=0.7,zh-HK;q=0.6,zh-TW;q=0.5\",\n",
    "               'Host': 'www.cninfo.com.cn',\n",
    "               'Origin': 'http://www.cninfo.com.cn'\n",
    "               }\n",
    "\n",
    "    for i in single_page:\n",
    "        allowed_list = [\n",
    "            '保留意见加事项段(更新后）',\n",
    "            '保留意见加事项段',\n",
    "            '无保留意见加事项段(更新后）',\n",
    "            '无保留意见加事项段',\n",
    "            '保留意见（更新后）',\n",
    "            '保留意见',\n",
    "            '无法发表意见（更新后）',\n",
    "            '无法发表意见',\n",
    "            '否定意见（更新后）',\n",
    "            '否定意见'\n",
    "            \n",
    "        ]\n",
    "        allowed_list_2 = [\n",
    "            '招股书',\n",
    "            '招股说明书',\n",
    "            '招股意向书',\n",
    "        ]\n",
    "        title = i['announcementTitle']\n",
    "        allowed = title in allowed_list\n",
    "        if '标准无保留意见' in title:\n",
    "            return\n",
    "        for item in allowed_list_2:\n",
    "            if item in title:\n",
    "                allowed = True\n",
    "                break\n",
    "        if allowed:\n",
    "            download = download_path + i[\"adjunctUrl\"]\n",
    "            name = i[\"secCode\"] + '_' + i['secName'] + '_' + i['announcementTitle'] + '.pdf'\n",
    "            if '*' in name:\n",
    "                name = name.replace('*', '')\n",
    "            file_path = saving_path + name\n",
    "            time.sleep(random.random() * 2)\n",
    "\n",
    "            headers['User-Agent'] = random.choice(User_Agent)\n",
    "            r = requests.get(download)\n",
    "\n",
    "            f = open(file_path, \"wb\")\n",
    "            f.write(r.content)\n",
    "            f.close()\n",
    "        else:\n",
    "            continue"
   ]
  },
  {
   "cell_type": "markdown",
   "id": "2808ae2e",
   "metadata": {},
   "source": [
    "## given page_number & stock number"
   ]
  },
  {
   "cell_type": "code",
   "execution_count": 12,
   "id": "aeac559c",
   "metadata": {},
   "outputs": [],
   "source": [
    "def Run(page_number, stock):\n",
    "    try:\n",
    "        annual_report = szseAnnual(page_number, stock)\n",
    "        stock_report = szseStock(page_number, stock)\n",
    "        annual_report_ = sseAnnual(page_number, stock)\n",
    "        stock_report_ = sseStock(page_number, stock)\n",
    "    except:\n",
    "        print(page_number, 'page error, retrying')\n",
    "        try:\n",
    "            annual_report = szseAnnual(page_number, stock)\n",
    "        except:\n",
    "            print(page_number, 'page error')\n",
    "    Download(annual_report)\n",
    "    Download(stock_report)\n",
    "    Download(annual_report_)\n",
    "    Download(stock_report_)"
   ]
  },
  {
   "cell_type": "code",
   "execution_count": 13,
   "id": "2f82e87a",
   "metadata": {},
   "outputs": [
    {
     "name": "stdout",
     "output_type": "stream",
     "text": [
      "300454\n",
      " done\n",
      "300504\n",
      " done\n",
      "300514\n",
      " done\n",
      "300554\n",
      " done\n",
      "300556\n",
      " done\n",
      "300557\n",
      " done\n",
      "300558\n",
      " done\n",
      "300559\n",
      " done\n",
      "300560\n",
      " done\n",
      "300561\n",
      " done\n",
      "300562\n",
      " done\n",
      "300563\n",
      " done\n",
      "300565\n",
      " done\n",
      "300566\n",
      " done\n",
      "300567\n",
      " done\n",
      "300568\n",
      " done\n",
      "300569\n",
      " done\n",
      "300570\n",
      " done\n",
      "1 page error, retrying\n"
     ]
    },
    {
     "ename": "UnboundLocalError",
     "evalue": "local variable 'stock_report' referenced before assignment",
     "output_type": "error",
     "traceback": [
      "\u001b[0;31m---------------------------------------------------------------------------\u001b[0m",
      "\u001b[0;31mUnboundLocalError\u001b[0m                         Traceback (most recent call last)",
      "\u001b[0;32m/tmp/ipykernel_5383/2263794500.py\u001b[0m in \u001b[0;36m<module>\u001b[0;34m\u001b[0m\n\u001b[1;32m      3\u001b[0m     \u001b[0;32mfor\u001b[0m \u001b[0mline\u001b[0m \u001b[0;32min\u001b[0m \u001b[0mlines\u001b[0m\u001b[0;34m:\u001b[0m\u001b[0;34m\u001b[0m\u001b[0;34m\u001b[0m\u001b[0m\n\u001b[1;32m      4\u001b[0m         \u001b[0mstock\u001b[0m \u001b[0;34m=\u001b[0m \u001b[0mline\u001b[0m\u001b[0;34m\u001b[0m\u001b[0;34m\u001b[0m\u001b[0m\n\u001b[0;32m----> 5\u001b[0;31m         \u001b[0mRun\u001b[0m\u001b[0;34m(\u001b[0m\u001b[0;36m1\u001b[0m\u001b[0;34m,\u001b[0m \u001b[0mline\u001b[0m\u001b[0;34m)\u001b[0m\u001b[0;34m\u001b[0m\u001b[0;34m\u001b[0m\u001b[0m\n\u001b[0m\u001b[1;32m      6\u001b[0m         \u001b[0mprint\u001b[0m\u001b[0;34m(\u001b[0m\u001b[0mline\u001b[0m\u001b[0;34m,\u001b[0m \u001b[0;34m\"done\"\u001b[0m\u001b[0;34m)\u001b[0m\u001b[0;34m\u001b[0m\u001b[0;34m\u001b[0m\u001b[0m\n",
      "\u001b[0;32m/tmp/ipykernel_5383/1007017093.py\u001b[0m in \u001b[0;36mRun\u001b[0;34m(page_number, stock)\u001b[0m\n\u001b[1;32m     12\u001b[0m             \u001b[0mprint\u001b[0m\u001b[0;34m(\u001b[0m\u001b[0mpage_number\u001b[0m\u001b[0;34m,\u001b[0m \u001b[0;34m'page error'\u001b[0m\u001b[0;34m)\u001b[0m\u001b[0;34m\u001b[0m\u001b[0;34m\u001b[0m\u001b[0m\n\u001b[1;32m     13\u001b[0m     \u001b[0mDownload\u001b[0m\u001b[0;34m(\u001b[0m\u001b[0mannual_report\u001b[0m\u001b[0;34m)\u001b[0m\u001b[0;34m\u001b[0m\u001b[0;34m\u001b[0m\u001b[0m\n\u001b[0;32m---> 14\u001b[0;31m     \u001b[0mDownload\u001b[0m\u001b[0;34m(\u001b[0m\u001b[0mstock_report\u001b[0m\u001b[0;34m)\u001b[0m\u001b[0;34m\u001b[0m\u001b[0;34m\u001b[0m\u001b[0m\n\u001b[0m\u001b[1;32m     15\u001b[0m     \u001b[0mDownload\u001b[0m\u001b[0;34m(\u001b[0m\u001b[0mannual_report_\u001b[0m\u001b[0;34m)\u001b[0m\u001b[0;34m\u001b[0m\u001b[0;34m\u001b[0m\u001b[0m\n\u001b[1;32m     16\u001b[0m     \u001b[0mDownload\u001b[0m\u001b[0;34m(\u001b[0m\u001b[0mstock_report_\u001b[0m\u001b[0;34m)\u001b[0m\u001b[0;34m\u001b[0m\u001b[0;34m\u001b[0m\u001b[0m\n",
      "\u001b[0;31mUnboundLocalError\u001b[0m: local variable 'stock_report' referenced before assignment"
     ]
    }
   ],
   "source": [
    "with open('company_id.txt') as file:\n",
    "    lines = file.readlines()\n",
    "    for line in lines:\n",
    "        stock = line\n",
    "        Run(1, line)\n",
    "        print(line, \"done\")"
   ]
  }
 ],
 "metadata": {
  "kernelspec": {
   "display_name": "Python 3 (ipykernel)",
   "language": "python",
   "name": "python3"
  },
  "language_info": {
   "codemirror_mode": {
    "name": "ipython",
    "version": 3
   },
   "file_extension": ".py",
   "mimetype": "text/x-python",
   "name": "python",
   "nbconvert_exporter": "python",
   "pygments_lexer": "ipython3",
   "version": "3.9.7"
  }
 },
 "nbformat": 4,
 "nbformat_minor": 5
}
